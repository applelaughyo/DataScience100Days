{
 "cells": [
  {
   "cell_type": "code",
   "execution_count": 2,
   "metadata": {},
   "outputs": [],
   "source": [
    "import numpy as np"
   ]
  },
  {
   "cell_type": "code",
   "execution_count": 3,
   "metadata": {},
   "outputs": [],
   "source": [
    "english_score = np.array([55,89,76,65,48,70])\n",
    "math_score = np.array([60,85,60,68,np.nan,60])\n",
    "chinese_score = np.array([65,90,82,72,66,77])\n"
   ]
  },
  {
   "cell_type": "code",
   "execution_count": 19,
   "metadata": {},
   "outputs": [
    {
     "name": "stdout",
     "output_type": "stream",
     "text": [
      "英文成績資料\n",
      "平均 67.16666666666667\n",
      "最大值 89\n",
      "最小值 48\n",
      "標準差 13.433995020924426\n",
      "數學成績資料\n",
      "平均 66.6\n",
      "最大值 85.0\n",
      "最小值 60.0\n",
      "標準差 9.707728879609279\n",
      "國文成績資料\n",
      "平均 75.33333333333333\n",
      "最大值 90\n",
      "最小值 65\n",
      "標準差 8.825468196582484\n"
     ]
    }
   ],
   "source": [
    "english_mean = np.nanmean(english_score)\n",
    "english_max = np.nanmax(english_score)\n",
    "english_min = np.nanmin(english_score)\n",
    "english_std = np.nanstd(english_score)\n",
    "math_mean = np.nanmean(math_score)\n",
    "math_max = np.nanmax(math_score)\n",
    "math_min = np.nanmin(math_score)\n",
    "math_std = np.nanstd(math_score)\n",
    "chinese_mean = np.nanmean(chinese_score)\n",
    "chinese_max = np.nanmax(chinese_score)\n",
    "chinese_min = np.nanmin(chinese_score)\n",
    "chinese_std = np.nanstd(chinese_score)\n",
    "print(\"英文成績資料\")\n",
    "print(\"平均\",english_mean)\n",
    "print(\"最大值\",english_max)\n",
    "print(\"最小值\",english_min)\n",
    "print(\"標準差\",english_std)\n",
    "print(\"數學成績資料\")\n",
    "print(\"平均\",math_mean)\n",
    "print(\"最大值\",math_max)\n",
    "print(\"最小值\",math_min)\n",
    "print(\"標準差\",math_std)\n",
    "print(\"國文成績資料\")\n",
    "print(\"平均\",chinese_mean)\n",
    "print(\"最大值\",chinese_max)\n",
    "print(\"最小值\",chinese_min)\n",
    "print(\"標準差\",chinese_std)"
   ]
  },
  {
   "cell_type": "code",
   "execution_count": 21,
   "metadata": {},
   "outputs": [
    {
     "name": "stdout",
     "output_type": "stream",
     "text": [
      "數學成績資料\n",
      "平均 64.66666666666667\n",
      "最大值 85.0\n",
      "最小值 55.0\n",
      "標準差 9.860132971832694\n"
     ]
    }
   ],
   "source": [
    "math_score[4] = 55\n",
    "math_mean = np.nanmean(math_score)\n",
    "math_max = np.nanmax(math_score)\n",
    "math_min = np.nanmin(math_score)\n",
    "math_std = np.nanstd(math_score)\n",
    "print(\"數學成績資料\")\n",
    "print(\"平均\",math_mean)\n",
    "print(\"最大值\",math_max)\n",
    "print(\"最小值\",math_min)\n",
    "print(\"標準差\",math_std)"
   ]
  },
  {
   "cell_type": "code",
   "execution_count": 26,
   "metadata": {},
   "outputs": [
    {
     "name": "stdout",
     "output_type": "stream",
     "text": [
      "0.9779282830211268\n"
     ]
    }
   ],
   "source": [
    "correlation_of_math = np.corrcoef(chinese_score , math_score)[0][1]\n",
    "correlation_of_english = np.corrcoef(chinese_score , english_score)[0][1]\n",
    "print(np.maximum(correlation_of_math , correlation_of_english))"
   ]
  }
 ],
 "metadata": {
  "kernelspec": {
   "display_name": "Python 3",
   "language": "python",
   "name": "python3"
  },
  "language_info": {
   "codemirror_mode": {
    "name": "ipython",
    "version": 3
   },
   "file_extension": ".py",
   "mimetype": "text/x-python",
   "name": "python",
   "nbconvert_exporter": "python",
   "pygments_lexer": "ipython3",
   "version": "3.8.5"
  }
 },
 "nbformat": 4,
 "nbformat_minor": 4
}
