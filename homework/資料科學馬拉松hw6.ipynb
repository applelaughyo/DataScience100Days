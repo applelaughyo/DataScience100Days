{
 "cells": [
  {
   "cell_type": "code",
   "execution_count": 2,
   "metadata": {},
   "outputs": [],
   "source": [
    "import numpy as np"
   ]
  },
  {
   "cell_type": "code",
   "execution_count": 38,
   "metadata": {},
   "outputs": [
    {
     "name": "stdout",
     "output_type": "stream",
     "text": [
      "[0 1 2 3 4 5 6 7 8 9]\n"
     ]
    }
   ],
   "source": [
    "x = np.array(range(30))\n",
    "y = np.array([2,3,5])\n",
    "with open('new_array.npz', 'wb' ) as f:\n",
    "    np.savez(f, array1=x, array2=y)\n",
    "    load_array = np.load('new_array.npz')\n",
    "    load_array.files\n",
    "    np.savez(f, a1 = load_array['array1'], a2 = load_array['array2'] , a3 = z)\n",
    "    new_load_array = np.load('new_array.npz')\n",
    "load_array.files\n",
    "new_load_array.files\n",
    "print(new_load_array['a3'])\n",
    "# z = np.arange(10)\n",
    "\n"
   ]
  }
 ],
 "metadata": {
  "kernelspec": {
   "display_name": "Python 3",
   "language": "python",
   "name": "python3"
  },
  "language_info": {
   "codemirror_mode": {
    "name": "ipython",
    "version": 3
   },
   "file_extension": ".py",
   "mimetype": "text/x-python",
   "name": "python",
   "nbconvert_exporter": "python",
   "pygments_lexer": "ipython3",
   "version": "3.8.5"
  }
 },
 "nbformat": 4,
 "nbformat_minor": 4
}
