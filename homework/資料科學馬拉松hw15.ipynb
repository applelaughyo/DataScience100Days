{
 "cells": [
  {
   "cell_type": "code",
   "execution_count": 18,
   "metadata": {},
   "outputs": [],
   "source": [
    "import numpy as np\n",
    "import pandas as pd"
   ]
  },
  {
   "source": [
    "import pandas as pd\n",
    "score_df = pd.DataFrame([[1,50,80,70,'boy',1], \n",
    "              [2,60,45,50,'boy',2],\n",
    "              [3,98,43,55,'boy',1],\n",
    "              [4,70,69,89,'boy',2],\n",
    "              [5,56,79,60,'girl',1],\n",
    "              [6,60,68,55,'girl',2],\n",
    "              [7,45,70,77,'girl',1],\n",
    "              [8,55,77,76,'girl',2],\n",
    "              [9,25,57,60,'girl',1],\n",
    "              [10,88,40,43,'girl',3],\n",
    "              [11,25,60,45,'boy',3],\n",
    "              [12,80,60,23,'boy',3],\n",
    "              [13,20,90,66,'girl',3],\n",
    "              [14,50,50,50,'girl',3],\n",
    "              [15,89,67,77,'girl',3]],columns=['student_id','math_score','english_score','chinese_score','sex','class'])\n",
    "score_df = score_df.set_index('student_id')"
   ],
   "cell_type": "code",
   "metadata": {},
   "execution_count": 19,
   "outputs": []
  },
  {
   "cell_type": "code",
   "execution_count": 20,
   "metadata": {},
   "outputs": [
    {
     "output_type": "stream",
     "name": "stdout",
     "text": [
      "math_score       98\nenglish_score    90\nchinese_score    89\ndtype: int64\n"
     ]
    }
   ],
   "source": [
    "print(score_df[['math_score' , 'english_score' , 'chinese_score']].max())"
   ]
  },
  {
   "cell_type": "code",
   "execution_count": 46,
   "metadata": {},
   "outputs": [
    {
     "output_type": "execute_result",
     "data": {
      "text/plain": [
       "       math_score  english_score  chinese_score\n",
       "class                                          \n",
       "2       61.250000      64.750000      67.500000\n",
       "3       58.666667      61.166667      50.666667\n",
       "1       54.800000      65.800000      64.400000"
      ],
      "text/html": "<div>\n<style scoped>\n    .dataframe tbody tr th:only-of-type {\n        vertical-align: middle;\n    }\n\n    .dataframe tbody tr th {\n        vertical-align: top;\n    }\n\n    .dataframe thead th {\n        text-align: right;\n    }\n</style>\n<table border=\"1\" class=\"dataframe\">\n  <thead>\n    <tr style=\"text-align: right;\">\n      <th></th>\n      <th>math_score</th>\n      <th>english_score</th>\n      <th>chinese_score</th>\n    </tr>\n    <tr>\n      <th>class</th>\n      <th></th>\n      <th></th>\n      <th></th>\n    </tr>\n  </thead>\n  <tbody>\n    <tr>\n      <th>2</th>\n      <td>61.250000</td>\n      <td>64.750000</td>\n      <td>67.500000</td>\n    </tr>\n    <tr>\n      <th>3</th>\n      <td>58.666667</td>\n      <td>61.166667</td>\n      <td>50.666667</td>\n    </tr>\n    <tr>\n      <th>1</th>\n      <td>54.800000</td>\n      <td>65.800000</td>\n      <td>64.400000</td>\n    </tr>\n  </tbody>\n</table>\n</div>"
     },
     "metadata": {},
     "execution_count": 46
    }
   ],
   "source": [
    "score_df.groupby('class').mean().sort_values('math_score' , ascending=False)\n"
   ]
  },
  {
   "cell_type": "code",
   "execution_count": 39,
   "metadata": {},
   "outputs": [
    {
     "output_type": "stream",
     "name": "stdout",
     "text": [
      "全校女生與男生國文平均差7.333333333333329分\n"
     ]
    }
   ],
   "source": [
    "sex_score = score_df.groupby('sex').mean()\n",
    "del sex_score['class']\n",
    "answer = sex_score.loc['girl' , 'chinese_score'] - sex_score.loc['boy' , 'chinese_score']\n",
    "print('全校女生與男生國文平均差' + str(answer) + '分')"
   ]
  }
 ],
 "metadata": {
  "kernelspec": {
   "display_name": "Python 3",
   "language": "python",
   "name": "python3"
  },
  "language_info": {
   "codemirror_mode": {
    "name": "ipython",
    "version": 3
   },
   "file_extension": ".py",
   "mimetype": "text/x-python",
   "name": "python",
   "nbconvert_exporter": "python",
   "pygments_lexer": "ipython3",
   "version": "3.8.5-final"
  }
 },
 "nbformat": 4,
 "nbformat_minor": 4
}